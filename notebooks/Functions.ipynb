{
 "cells": [
  {
   "cell_type": "code",
   "execution_count": 13,
   "id": "ec17a659",
   "metadata": {},
   "outputs": [],
   "source": [
    "# creating a function\n",
    "\n",
    "def disciplines():\n",
    "    print(\"English\")\n",
    "    print(\"History\")\n",
    "    print(\"Business\")\n",
    "    print(\"Biology\")"
   ]
  },
  {
   "cell_type": "code",
   "execution_count": 14,
   "id": "f2116e3a",
   "metadata": {},
   "outputs": [
    {
     "name": "stdout",
     "output_type": "stream",
     "text": [
      "English\n",
      "History\n",
      "Business\n",
      "Biology\n"
     ]
    }
   ],
   "source": [
    "disciplines()"
   ]
  },
  {
   "cell_type": "code",
   "execution_count": 112,
   "id": "2611e90e",
   "metadata": {},
   "outputs": [],
   "source": [
    "#Parameters and arguments\n",
    "#Print (print output) vs. return (save output to function)\n",
    "\n",
    "food = [\"bread\", \"milk\", \"eggs\"]\n",
    "\n",
    "def groceries(x):\n",
    "    #print(x)\n",
    "    return(x)"
   ]
  },
  {
   "cell_type": "code",
   "execution_count": 114,
   "id": "9babad23",
   "metadata": {},
   "outputs": [
    {
     "name": "stdout",
     "output_type": "stream",
     "text": [
      "['bread', 'milk', 'eggs']\n"
     ]
    }
   ],
   "source": [
    "print(groceries(food))"
   ]
  },
  {
   "cell_type": "code",
   "execution_count": 17,
   "id": "5ea3bf19",
   "metadata": {},
   "outputs": [],
   "source": [
    "#Function with numbers\n",
    "\n",
    "def squares(x):\n",
    "    print(x*x)\n",
    "    return"
   ]
  },
  {
   "cell_type": "code",
   "execution_count": 9,
   "id": "5e447bb2",
   "metadata": {},
   "outputs": [
    {
     "name": "stdout",
     "output_type": "stream",
     "text": [
      "225\n",
      "289\n",
      "361\n",
      "400\n"
     ]
    }
   ],
   "source": [
    "numbers_2 = [15, 17, 19, 20]\n",
    "\n",
    "for num in numbers_2:\n",
    "    squares(num)"
   ]
  },
  {
   "cell_type": "code",
   "execution_count": 10,
   "id": "bcf5efd3",
   "metadata": {},
   "outputs": [],
   "source": [
    "def square_list(y):\n",
    "    for x in y:\n",
    "        print(x*x)\n",
    "        \n"
   ]
  },
  {
   "cell_type": "code",
   "execution_count": 11,
   "id": "cb2672b8",
   "metadata": {},
   "outputs": [
    {
     "name": "stdout",
     "output_type": "stream",
     "text": [
      "1\n",
      "4\n",
      "9\n",
      "16\n",
      "25\n"
     ]
    }
   ],
   "source": [
    "square_list(numbers)"
   ]
  },
  {
   "cell_type": "code",
   "execution_count": 12,
   "id": "f34a96fe",
   "metadata": {},
   "outputs": [
    {
     "name": "stdout",
     "output_type": "stream",
     "text": [
      "225\n",
      "289\n",
      "361\n",
      "400\n"
     ]
    }
   ],
   "source": [
    "square_list(numbers_2)"
   ]
  },
  {
   "cell_type": "code",
   "execution_count": 39,
   "id": "3bccb784",
   "metadata": {},
   "outputs": [],
   "source": [
    "#using multiple parameters\n",
    "\n",
    "def introduction(name, department):\n",
    "    return(\"My name is \" + name + \" and I work in the \" + department + \" department\")\n",
    "\n"
   ]
  },
  {
   "cell_type": "code",
   "execution_count": 40,
   "id": "9a569033",
   "metadata": {},
   "outputs": [
    {
     "data": {
      "text/plain": [
       "'My name is Claudia and I work in the English department'"
      ]
     },
     "execution_count": 40,
     "metadata": {},
     "output_type": "execute_result"
    }
   ],
   "source": [
    "introduction(name=\"Claudia\", department=\"English\")"
   ]
  },
  {
   "cell_type": "code",
   "execution_count": 93,
   "id": "faadc10f",
   "metadata": {},
   "outputs": [],
   "source": [
    "#Functions with file data\n",
    "\n",
    "import pandas as pd\n",
    "\n",
    "df = pd.read_csv(\"gdp_europe.csv\", index_col=0)"
   ]
  },
  {
   "cell_type": "code",
   "execution_count": 94,
   "id": "ec7c66bb",
   "metadata": {},
   "outputs": [
    {
     "data": {
      "text/html": [
       "<div>\n",
       "<style scoped>\n",
       "    .dataframe tbody tr th:only-of-type {\n",
       "        vertical-align: middle;\n",
       "    }\n",
       "\n",
       "    .dataframe tbody tr th {\n",
       "        vertical-align: top;\n",
       "    }\n",
       "\n",
       "    .dataframe thead th {\n",
       "        text-align: right;\n",
       "    }\n",
       "</style>\n",
       "<table border=\"1\" class=\"dataframe\">\n",
       "  <thead>\n",
       "    <tr style=\"text-align: right;\">\n",
       "      <th></th>\n",
       "      <th>gdpPercap_1952</th>\n",
       "      <th>gdpPercap_1957</th>\n",
       "      <th>gdpPercap_1962</th>\n",
       "      <th>gdpPercap_1967</th>\n",
       "      <th>gdpPercap_1972</th>\n",
       "      <th>gdpPercap_1977</th>\n",
       "      <th>gdpPercap_1982</th>\n",
       "      <th>gdpPercap_1987</th>\n",
       "      <th>gdpPercap_1992</th>\n",
       "      <th>gdpPercap_1997</th>\n",
       "      <th>gdpPercap_2002</th>\n",
       "      <th>gdpPercap_2007</th>\n",
       "    </tr>\n",
       "    <tr>\n",
       "      <th>country</th>\n",
       "      <th></th>\n",
       "      <th></th>\n",
       "      <th></th>\n",
       "      <th></th>\n",
       "      <th></th>\n",
       "      <th></th>\n",
       "      <th></th>\n",
       "      <th></th>\n",
       "      <th></th>\n",
       "      <th></th>\n",
       "      <th></th>\n",
       "      <th></th>\n",
       "    </tr>\n",
       "  </thead>\n",
       "  <tbody>\n",
       "    <tr>\n",
       "      <th>Albania</th>\n",
       "      <td>1601.056136</td>\n",
       "      <td>1942.284244</td>\n",
       "      <td>2312.888958</td>\n",
       "      <td>2760.196931</td>\n",
       "      <td>3313.422188</td>\n",
       "      <td>3533.003910</td>\n",
       "      <td>3630.880722</td>\n",
       "      <td>3738.932735</td>\n",
       "      <td>2497.437901</td>\n",
       "      <td>3193.054604</td>\n",
       "      <td>4604.211737</td>\n",
       "      <td>5937.029526</td>\n",
       "    </tr>\n",
       "    <tr>\n",
       "      <th>Austria</th>\n",
       "      <td>6137.076492</td>\n",
       "      <td>8842.598030</td>\n",
       "      <td>10750.721110</td>\n",
       "      <td>12834.602400</td>\n",
       "      <td>16661.625600</td>\n",
       "      <td>19749.422300</td>\n",
       "      <td>21597.083620</td>\n",
       "      <td>23687.826070</td>\n",
       "      <td>27042.018680</td>\n",
       "      <td>29095.920660</td>\n",
       "      <td>32417.607690</td>\n",
       "      <td>36126.492700</td>\n",
       "    </tr>\n",
       "    <tr>\n",
       "      <th>Belgium</th>\n",
       "      <td>8343.105127</td>\n",
       "      <td>9714.960623</td>\n",
       "      <td>10991.206760</td>\n",
       "      <td>13149.041190</td>\n",
       "      <td>16672.143560</td>\n",
       "      <td>19117.974480</td>\n",
       "      <td>20979.845890</td>\n",
       "      <td>22525.563080</td>\n",
       "      <td>25575.570690</td>\n",
       "      <td>27561.196630</td>\n",
       "      <td>30485.883750</td>\n",
       "      <td>33692.605080</td>\n",
       "    </tr>\n",
       "    <tr>\n",
       "      <th>Bosnia and Herzegovina</th>\n",
       "      <td>973.533195</td>\n",
       "      <td>1353.989176</td>\n",
       "      <td>1709.683679</td>\n",
       "      <td>2172.352423</td>\n",
       "      <td>2860.169750</td>\n",
       "      <td>3528.481305</td>\n",
       "      <td>4126.613157</td>\n",
       "      <td>4314.114757</td>\n",
       "      <td>2546.781445</td>\n",
       "      <td>4766.355904</td>\n",
       "      <td>6018.975239</td>\n",
       "      <td>7446.298803</td>\n",
       "    </tr>\n",
       "    <tr>\n",
       "      <th>Bulgaria</th>\n",
       "      <td>2444.286648</td>\n",
       "      <td>3008.670727</td>\n",
       "      <td>4254.337839</td>\n",
       "      <td>5577.002800</td>\n",
       "      <td>6597.494398</td>\n",
       "      <td>7612.240438</td>\n",
       "      <td>8224.191647</td>\n",
       "      <td>8239.854824</td>\n",
       "      <td>6302.623438</td>\n",
       "      <td>5970.388760</td>\n",
       "      <td>7696.777725</td>\n",
       "      <td>10680.792820</td>\n",
       "    </tr>\n",
       "  </tbody>\n",
       "</table>\n",
       "</div>"
      ],
      "text/plain": [
       "                        gdpPercap_1952  gdpPercap_1957  gdpPercap_1962   \n",
       "country                                                                  \n",
       "Albania                    1601.056136     1942.284244     2312.888958  \\\n",
       "Austria                    6137.076492     8842.598030    10750.721110   \n",
       "Belgium                    8343.105127     9714.960623    10991.206760   \n",
       "Bosnia and Herzegovina      973.533195     1353.989176     1709.683679   \n",
       "Bulgaria                   2444.286648     3008.670727     4254.337839   \n",
       "\n",
       "                        gdpPercap_1967  gdpPercap_1972  gdpPercap_1977   \n",
       "country                                                                  \n",
       "Albania                    2760.196931     3313.422188     3533.003910  \\\n",
       "Austria                   12834.602400    16661.625600    19749.422300   \n",
       "Belgium                   13149.041190    16672.143560    19117.974480   \n",
       "Bosnia and Herzegovina     2172.352423     2860.169750     3528.481305   \n",
       "Bulgaria                   5577.002800     6597.494398     7612.240438   \n",
       "\n",
       "                        gdpPercap_1982  gdpPercap_1987  gdpPercap_1992   \n",
       "country                                                                  \n",
       "Albania                    3630.880722     3738.932735     2497.437901  \\\n",
       "Austria                   21597.083620    23687.826070    27042.018680   \n",
       "Belgium                   20979.845890    22525.563080    25575.570690   \n",
       "Bosnia and Herzegovina     4126.613157     4314.114757     2546.781445   \n",
       "Bulgaria                   8224.191647     8239.854824     6302.623438   \n",
       "\n",
       "                        gdpPercap_1997  gdpPercap_2002  gdpPercap_2007  \n",
       "country                                                                 \n",
       "Albania                    3193.054604     4604.211737     5937.029526  \n",
       "Austria                   29095.920660    32417.607690    36126.492700  \n",
       "Belgium                   27561.196630    30485.883750    33692.605080  \n",
       "Bosnia and Herzegovina     4766.355904     6018.975239     7446.298803  \n",
       "Bulgaria                   5970.388760     7696.777725    10680.792820  "
      ]
     },
     "execution_count": 94,
     "metadata": {},
     "output_type": "execute_result"
    }
   ],
   "source": [
    "df.head()"
   ]
  },
  {
   "cell_type": "code",
   "execution_count": 95,
   "id": "ffbcd3ff",
   "metadata": {},
   "outputs": [],
   "source": [
    "#Basic function with a dataframe\n",
    "\n",
    "def column_min(column):\n",
    "    return(df[column].min())"
   ]
  },
  {
   "cell_type": "code",
   "execution_count": 96,
   "id": "0505be72",
   "metadata": {},
   "outputs": [
    {
     "name": "stdout",
     "output_type": "stream",
     "text": [
      "973.5331948\n"
     ]
    }
   ],
   "source": [
    "print(column_min(\"gdpPercap_1952\"))"
   ]
  },
  {
   "cell_type": "code",
   "execution_count": 99,
   "id": "aa11968b",
   "metadata": {},
   "outputs": [],
   "source": [
    "#More complex function with a dataframe\n",
    "\n",
    "def yearly_average(data):\n",
    "    x = data.index.values\n",
    "    for y in x:\n",
    "        return(data.loc[x].mean())\n",
    "    "
   ]
  },
  {
   "cell_type": "code",
   "execution_count": 100,
   "id": "09a7aaf1",
   "metadata": {},
   "outputs": [
    {
     "name": "stdout",
     "output_type": "stream",
     "text": [
      "gdpPercap_1952     5661.057435\n",
      "gdpPercap_1957     6963.012816\n",
      "gdpPercap_1962     8365.486814\n",
      "gdpPercap_1967    10143.823757\n",
      "gdpPercap_1972    12479.575246\n",
      "gdpPercap_1977    14283.979110\n",
      "gdpPercap_1982    15617.896551\n",
      "gdpPercap_1987    17214.310727\n",
      "gdpPercap_1992    17061.568084\n",
      "gdpPercap_1997    19076.781802\n",
      "gdpPercap_2002    21711.732422\n",
      "gdpPercap_2007    25054.481636\n",
      "dtype: float64\n"
     ]
    }
   ],
   "source": [
    "print(yearly_average(df))"
   ]
  },
  {
   "cell_type": "code",
   "execution_count": 77,
   "id": "cbd2bc9a",
   "metadata": {},
   "outputs": [],
   "source": [
    "df_africa = pd.read_csv(\"gdp_africa.csv\", index_col=0)"
   ]
  },
  {
   "cell_type": "code",
   "execution_count": 78,
   "id": "be3222e6",
   "metadata": {},
   "outputs": [
    {
     "name": "stdout",
     "output_type": "stream",
     "text": [
      "gdpPercap_1952    1252.572466\n",
      "gdpPercap_1957    1385.236062\n",
      "gdpPercap_1962    1598.078825\n",
      "gdpPercap_1967    2050.363801\n",
      "gdpPercap_1972    2339.615674\n",
      "gdpPercap_1977    2585.938508\n",
      "gdpPercap_1982    2481.592960\n",
      "gdpPercap_1987    2282.668991\n",
      "gdpPercap_1992    2281.810333\n",
      "gdpPercap_1997    2378.759555\n",
      "gdpPercap_2002    2599.385159\n",
      "gdpPercap_2007    3089.032605\n",
      "dtype: float64\n"
     ]
    }
   ],
   "source": [
    "print(yearly_average(df_africa))"
   ]
  },
  {
   "cell_type": "code",
   "execution_count": 108,
   "id": "34c30517",
   "metadata": {},
   "outputs": [],
   "source": [
    "def min_gdp(data):\n",
    "    df = pd.read_csv(data, index_col=0)\n",
    "    countries = df.index.values\n",
    "    for country in countries:\n",
    "        print(country, df.loc[country].min())\n",
    "    return"
   ]
  },
  {
   "cell_type": "code",
   "execution_count": 109,
   "id": "c76f4cf0",
   "metadata": {},
   "outputs": [
    {
     "name": "stdout",
     "output_type": "stream",
     "text": [
      "Albania 1601.056136\n",
      "Austria 6137.076492\n",
      "Belgium 8343.105127\n",
      "Bosnia and Herzegovina 973.5331948\n",
      "Bulgaria 2444.286648\n",
      "Croatia 3119.23652\n",
      "Czech Republic 6876.14025\n",
      "Denmark 9692.385245\n",
      "Finland 6424.519071\n",
      "France 7029.809327\n",
      "Germany 7144.114393\n",
      "Greece 3530.690067\n",
      "Hungary 5263.673816\n",
      "Iceland 7267.688428\n",
      "Ireland 5210.280328\n",
      "Italy 4931.404155\n",
      "Montenegro 2647.585601\n",
      "Netherlands 8941.571858\n",
      "Norway 10095.42172\n",
      "Poland 4029.329699\n",
      "Portugal 3068.319867\n",
      "Romania 3144.613186\n",
      "Serbia 3581.459448\n",
      "Slovak Republic 5074.659104\n",
      "Slovenia 4215.041741\n",
      "Spain 3834.034742\n",
      "Sweden 8527.844662\n",
      "Switzerland 14734.23275\n",
      "Turkey 1969.10098\n",
      "United Kingdom 9979.508487\n"
     ]
    }
   ],
   "source": [
    "(min_gdp(\"gdp_europe.csv\"))"
   ]
  },
  {
   "cell_type": "code",
   "execution_count": null,
   "id": "3b3e7d7e",
   "metadata": {},
   "outputs": [],
   "source": []
  }
 ],
 "metadata": {
  "kernelspec": {
   "display_name": "Python 3 (ipykernel)",
   "language": "python",
   "name": "python3"
  },
  "language_info": {
   "codemirror_mode": {
    "name": "ipython",
    "version": 3
   },
   "file_extension": ".py",
   "mimetype": "text/x-python",
   "name": "python",
   "nbconvert_exporter": "python",
   "pygments_lexer": "ipython3",
   "version": "3.9.7"
  }
 },
 "nbformat": 4,
 "nbformat_minor": 5
}
